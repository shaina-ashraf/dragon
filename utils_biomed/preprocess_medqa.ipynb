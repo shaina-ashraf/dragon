{
 "cells": [
  {
   "cell_type": "code",
   "execution_count": null,
   "metadata": {},
   "outputs": [],
   "source": [
    "import os\n",
    "import json\n",
    "import pickle\n",
    "import numpy as np\n",
    "from tqdm import tqdm\n",
    "from collections import defaultdict"
   ]
  },
  {
   "cell_type": "code",
   "execution_count": null,
   "metadata": {},
   "outputs": [],
   "source": [
    "repo_root = '..'"
   ]
  },
  {
   "cell_type": "markdown",
   "metadata": {},
   "source": [
    "## Get MedQA-USMLE dataset"
   ]
  },
  {
   "cell_type": "markdown",
   "metadata": {},
   "source": [
    "First, download the original MedQA dataset: https://github.com/jind11/MedQA. \n",
    "Put the unzipped folder in `data/medqa/raw`"
   ]
  },
  {
   "cell_type": "code",
   "execution_count": null,
   "metadata": {},
   "outputs": [],
   "source": [
    "#Prepare `statement` data following CommonsenseQA, OpenBookQA\n",
    "medqa_root = f'{repo_root}/data/medqa'\n",
    "os.system(f'mkdir -p {medqa_root}/statement')\n",
    "\n",
    "for fname in [\"train\", \"dev\", \"test\"]:\n",
    "    with open(f\"{medqa_root}/raw/questions/US/4_options/phrases_no_exclude_{fname}.jsonl\") as f:\n",
    "        lines = f.readlines()\n",
    "    examples = []\n",
    "    for i in tqdm(range(len(lines))):\n",
    "        line = json.loads(lines[i])\n",
    "        _id  = f\"train-{i:05d}\"\n",
    "        answerKey = line[\"answer_idx\"]\n",
    "        stem      = line[\"question\"]    \n",
    "        choices   = [{\"label\": k, \"text\": line[\"options\"][k]} for k in \"ABCD\"]\n",
    "        stmts     = [{\"statement\": stem +\" \"+ c[\"text\"]} for c in choices]\n",
    "        ex_obj    = {\"id\": _id, \n",
    "                     \"question\": {\"stem\": stem, \"choices\": choices}, \n",
    "                     \"answerKey\": answerKey, \n",
    "                     \"statements\": stmts\n",
    "                    }\n",
    "        examples.append(ex_obj)\n",
    "    with open(f\"{medqa_root}/statement/{fname}.statement.jsonl\", 'w') as fout:\n",
    "        for dic in examples:\n",
    "            print (json.dumps(dic), file=fout)"
   ]
  },
  {
   "cell_type": "code",
   "execution_count": null,
   "metadata": {},
   "outputs": [],
   "source": []
  }
 ],
 "metadata": {
  "kernelspec": {
   "display_name": "Python 3.8.18 ('dragon2': conda)",
   "language": "python",
   "name": "python3"
  },
  "language_info": {
   "codemirror_mode": {
    "name": "ipython",
    "version": 3
   },
   "file_extension": ".py",
   "mimetype": "text/x-python",
   "name": "python",
   "nbconvert_exporter": "python",
   "pygments_lexer": "ipython3",
   "version": "3.8.18"
  },
  "vscode": {
   "interpreter": {
    "hash": "08587c0f5c67a3495a6970ba7d5b464d0115ad99415726a58f65952f34bfe0bf"
   }
  }
 },
 "nbformat": 4,
 "nbformat_minor": 2
}
