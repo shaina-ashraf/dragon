{
 "cells": [
  {
   "cell_type": "code",
   "execution_count": 5,
   "metadata": {},
   "outputs": [],
   "source": [
    "import json\n",
    "import networkx as nx\n",
    "import matplotlib.pyplot as plt\n",
    "import pickle\n",
    "import pandas as pd\n"
   ]
  },
  {
   "cell_type": "code",
   "execution_count": 3,
   "metadata": {},
   "outputs": [],
   "source": [
    "old_fever_dev = '/home/ashrafs/projects/dataset/fever/feverous_dev_challenges.jsonl'\n",
    "processed_fever_dev = '/home/ashrafs/projects/dataset/FEVER-Processed/feverous_dev_challenges_statements.jsonl'\n",
    "updated_fev_dev = '/home/ashrafs/projects/dragon/data/fever/full/feverous_dev_labelled_statements.jsonl'"
   ]
  },
  {
   "cell_type": "code",
   "execution_count": 6,
   "metadata": {},
   "outputs": [],
   "source": [
    "old_fever_train = '/home/ashrafs/projects/dataset/fever/feverous_train_challenges.jsonl'\n",
    "processed_fever_train = '/home/ashrafs/projects/dataset/FEVER-Processed/feverous_train_challenges_statements.jsonl'\n",
    "updated_fev_train = '/home/ashrafs/projects/dragon/data/fever/full/feverous_train_labelled_statements.jsonl'"
   ]
  },
  {
   "cell_type": "code",
   "execution_count": 8,
   "metadata": {},
   "outputs": [
    {
     "data": {
      "text/plain": [
       "[('', ''),\n",
       " (7389, 'REFUTES'),\n",
       " (13969, 'SUPPORTS'),\n",
       " (9770, 'REFUTES'),\n",
       " (3044, 'NOT ENOUGH INFO')]"
      ]
     },
     "execution_count": 8,
     "metadata": {},
     "output_type": "execute_result"
    }
   ],
   "source": [
    "# Reading the file again and extracting claim ID and label for each claim\n",
    "claim_id_labels = []\n",
    "with open(old_fever_dev, 'r') as file:\n",
    "    for line in file:\n",
    "        data = json.loads(line)\n",
    "        # Assuming the structure contains 'id' and 'label'\n",
    "        claim_id_label = (data.get('id'), data.get('label'))\n",
    "        claim_id_labels.append(claim_id_label)\n",
    "\n",
    "# Displaying the first few entries\n",
    "claim_id_labels[:5]\n"
   ]
  },
  {
   "cell_type": "code",
   "execution_count": 9,
   "metadata": {},
   "outputs": [],
   "source": [
    "def map_claim_ids_and_labels(old_file_path, new_file_path, output_file_path):\n",
    "    import json\n",
    "\n",
    "    # Step 1: Read old_fever_dev and create a mapping\n",
    "    claim_to_id_label_map = {}\n",
    "    with open(old_file_path, 'r') as file:\n",
    "        for line in file:\n",
    "            data = json.loads(line)\n",
    "            claim_text = data.get('claim')\n",
    "            claim_id = data.get('id')\n",
    "            claim_label = data.get('label')\n",
    "            if claim_text:\n",
    "                claim_to_id_label_map[claim_text] = {'id': claim_id, 'label': claim_label}\n",
    "\n",
    "    # Step 2: Read new_fever_dev and map id and label\n",
    "    enriched_data = []\n",
    "    with open(new_file_path, 'r') as file:\n",
    "        for line in file:\n",
    "            data = json.loads(line)\n",
    "            claim_text = data.get('CLAIM')\n",
    "            if claim_text and claim_text in claim_to_id_label_map:\n",
    "                data['id'] = claim_to_id_label_map[claim_text]['id']\n",
    "                data['label'] = claim_to_id_label_map[claim_text]['label']\n",
    "            enriched_data.append(data)\n",
    "\n",
    "    # Step 3: Write the enriched data\n",
    "    with open(output_file_path, 'w') as file:\n",
    "        for entry in enriched_data:\n",
    "            json.dump(entry, file)\n",
    "            file.write('\\n')\n",
    "\n",
    "    print(\"Data enrichment completed and saved to\", output_file_path)\n"
   ]
  },
  {
   "cell_type": "code",
   "execution_count": 10,
   "metadata": {},
   "outputs": [
    {
     "name": "stdout",
     "output_type": "stream",
     "text": [
      "Data enrichment completed and saved to /home/ashrafs/projects/dragon/data/fever/full/feverous_dev_labelled_statements.jsonl\n"
     ]
    }
   ],
   "source": [
    "map_claim_ids_and_labels(old_fever_dev, processed_fever_dev,updated_fev_dev )"
   ]
  },
  {
   "cell_type": "code",
   "execution_count": 11,
   "metadata": {},
   "outputs": [
    {
     "name": "stdout",
     "output_type": "stream",
     "text": [
      "Data enrichment completed and saved to /home/ashrafs/projects/dragon/data/fever/full/feverous_train_labelled_statements.jsonl\n"
     ]
    }
   ],
   "source": [
    "map_claim_ids_and_labels(old_fever_train, processed_fever_train,updated_fev_train)"
   ]
  }
 ],
 "metadata": {
  "kernelspec": {
   "display_name": "Python 3.8.18 ('dragon2')",
   "language": "python",
   "name": "python3"
  },
  "language_info": {
   "codemirror_mode": {
    "name": "ipython",
    "version": 3
   },
   "file_extension": ".py",
   "mimetype": "text/x-python",
   "name": "python",
   "nbconvert_exporter": "python",
   "pygments_lexer": "ipython3",
   "version": "3.8.18"
  },
  "orig_nbformat": 4,
  "vscode": {
   "interpreter": {
    "hash": "08587c0f5c67a3495a6970ba7d5b464d0115ad99415726a58f65952f34bfe0bf"
   }
  }
 },
 "nbformat": 4,
 "nbformat_minor": 2
}
