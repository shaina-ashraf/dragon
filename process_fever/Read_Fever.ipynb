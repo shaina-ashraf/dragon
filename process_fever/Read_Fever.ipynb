{
 "cells": [
  {
   "cell_type": "code",
   "execution_count": 2,
   "metadata": {},
   "outputs": [],
   "source": [
    "import json\n",
    "import networkx as nx\n",
    "import matplotlib.pyplot as plt\n",
    "import pickle\n",
    "import pandas as pd\n",
    "from sklearn.model_selection import train_test_split\n"
   ]
  },
  {
   "cell_type": "code",
   "execution_count": 3,
   "metadata": {},
   "outputs": [],
   "source": [
    "full_fev_dev = '/home/ashrafs/projects/dragon/data/fever/full/feverous_dev_labelled_statements.jsonl'\n",
    "full_fev_train = '/home/ashrafs/projects/dragon/data/fever/full/feverous_train_labelled_statements.jsonl'"
   ]
  },
  {
   "cell_type": "code",
   "execution_count": 23,
   "metadata": {},
   "outputs": [],
   "source": [
    "dev_fever_output = '/home/ashrafs/projects/dragon/data/fever/Main/dev.jsonl'\n",
    "train_fever_output = '/home/ashrafs/projects/dragon/data/fever/Main/train.jsonl'\n",
    "test_fever_output = '/home/ashrafs/projects/dragon/data/fever/Main/test.jsonl'\n",
    "\n"
   ]
  },
  {
   "cell_type": "code",
   "execution_count": 4,
   "metadata": {},
   "outputs": [],
   "source": [
    "dev_fever_org = '/home/ashrafs/projects/dragon/data/fever/orginal_splits/dev.jsonl'\n",
    "train_fever_org = '/home/ashrafs/projects/dragon/data/fever/orginal_splits/train.jsonl'\n",
    "test_fever_org = '/home/ashrafs/projects/dragon/data/fever/orginal_splits/test.jsonl'\n",
    "\n"
   ]
  },
  {
   "cell_type": "code",
   "execution_count": 5,
   "metadata": {},
   "outputs": [],
   "source": [
    "def load_data(filename):\n",
    "    data = []\n",
    "    with open(filename, 'r') as file:\n",
    "        for line in file:\n",
    "            data.append(json.loads(line))\n",
    "    return data\n"
   ]
  },
  {
   "cell_type": "code",
   "execution_count": 17,
   "metadata": {},
   "outputs": [],
   "source": [
    "# Load the data\n",
    "\n",
    "dev_data = load_data(full_fev_dev)\n",
    "train_data = load_data(full_fev_train)\n",
    "\n"
   ]
  },
  {
   "cell_type": "code",
   "execution_count": 18,
   "metadata": {},
   "outputs": [
    {
     "name": "stdout",
     "output_type": "stream",
     "text": [
      "Dev Claims:  7890 Train Claims:  71291\n"
     ]
    }
   ],
   "source": [
    "print(\"Dev Claims: \",len(dev_data), \"Train Claims: \",  len(train_data))"
   ]
  },
  {
   "cell_type": "code",
   "execution_count": 8,
   "metadata": {},
   "outputs": [
    {
     "data": {
      "text/plain": [
       "{'CLAIM': 'Michael Folivi competed with ten teams from 2016 to 2021, appearing in 54 games and making seven goals in total.',\n",
       " 'ENTITY_STATEMENTS': None,\n",
       " 'LABEL': 'REFUTES',\n",
       " 'id': 24435,\n",
       " 'label': 'REFUTES'}"
      ]
     },
     "execution_count": 8,
     "metadata": {},
     "output_type": "execute_result"
    }
   ],
   "source": [
    "train_data[0]"
   ]
  },
  {
   "cell_type": "code",
   "execution_count": null,
   "metadata": {},
   "outputs": [],
   "source": [
    "\n",
    "    \n",
    "                  \n"
   ]
  },
  {
   "cell_type": "code",
   "execution_count": 32,
   "metadata": {},
   "outputs": [
    {
     "name": "stdout",
     "output_type": "stream",
     "text": [
      "Michael Folivi competed with ten teams from 2016 to 2021, appearing in 54 games and making seven goals in total.\n",
      "LABEL:  REFUTES  ID:  24435\n",
      "----------\n",
      "Asiatic Society of Bangladesh(housed in Nimtali) is a non political organization renamed in 1972, Ahmed Hasan Dani played an important role in its founding.\n",
      "LABEL:  SUPPORTS  ID:  14802\n",
      "----------\n",
      "Lindfield railway station has 3 bus routes, in which the first platform services routes to Emu plains via Central and Richmond and Hornbys via Strathfield.\n",
      "LABEL:  SUPPORTS  ID:  28540\n",
      "----------\n",
      "Mukaradeeb('Wolf's Den') is a city in Iraq near the Syrian border, in the district of Al-Qa'im, province of Al-Anbar.\n",
      "LABEL:  SUPPORTS  ID:  71874\n",
      "----------\n",
      "Herbivore men was coined by Maki Fukasawa and was a negative connotation as as young men who had lost their \"manliness\" and were responsible for Japan's declining birth rate which is actually due to high life expectancy and low fertility rate  among other things.\n",
      "LABEL:  SUPPORTS  ID:  70296\n",
      "----------\n",
      "Shulin, a 33.1288 km (12.7911 sq mi) land located in New Taipei City, China, a country in East Asia, has a total population of 183,946 in December 2018.\n",
      "LABEL:  REFUTES  ID:  16578\n",
      "----------\n"
     ]
    }
   ],
   "source": [
    "for i, data in enumerate(train_data):\n",
    "    if i > 5:\n",
    "        break\n",
    "    print(data.get(\"CLAIM\"))\n",
    "    print(\"LABEL: \", data.get(\"LABEL\"), \" ID: \", data.get(\"id\"))\n",
    "    print(\"----------\")\n",
    "    "
   ]
  },
  {
   "cell_type": "code",
   "execution_count": 33,
   "metadata": {},
   "outputs": [],
   "source": [
    "def convert_to_fever_format(data_list):\n",
    "    fever_format_data = []\n",
    "    label_to_key = {\"SUPPORTS\": \"A\", \"REFUTES\": \"B\", \"NOT ENOUGH INFO\": \"C\"}\n",
    "    placeholder_text = \"which:\"\n",
    "\n",
    "    for data in data_list:\n",
    "        claim_id = data.get(\"id\")\n",
    "        label = data.get(\"LABEL\")\n",
    "\n",
    "        fever_item = {\n",
    "            \"id\": claim_id,\n",
    "            \"question\": {\n",
    "                \"stem\": f\"{data.get('CLAIM')}, {placeholder_text}\",\n",
    "                \"choices\": [\n",
    "                    {\"text\": \"SUPPORTS\", \"label\": \"A\"},\n",
    "                    {\"text\": \"REFUTES\", \"label\": \"B\"},\n",
    "                    {\"text\": \"NOT ENOUGH INFO\", \"label\": \"C\"},\n",
    "                ]\n",
    "            },\n",
    "            \"answerKey\": label_to_key.get(label)  # Default to \"C\" if label is not found\n",
    "        }\n",
    "\n",
    "        fever_format_data.append(fever_item)\n",
    "\n",
    "    return fever_format_data\n",
    "\n"
   ]
  },
  {
   "cell_type": "code",
   "execution_count": 34,
   "metadata": {},
   "outputs": [],
   "source": [
    "converted_dev= convert_to_fever_format(dev_data)\n",
    "converted_train= convert_to_fever_format(train_data)"
   ]
  },
  {
   "cell_type": "code",
   "execution_count": 37,
   "metadata": {},
   "outputs": [
    {
     "name": "stdout",
     "output_type": "stream",
     "text": [
      "{'id': 24435, 'question': {'stem': 'Michael Folivi competed with ten teams from 2016 to 2021, appearing in 54 games and making seven goals in total., which:', 'choices': [{'text': 'SUPPORTS', 'label': 'A'}, {'text': 'REFUTES', 'label': 'B'}, {'text': 'NOT ENOUGH INFO', 'label': 'C'}]}, 'answerKey': 'B'}\n"
     ]
    }
   ],
   "source": [
    "print(converted_train[0])"
   ]
  },
  {
   "cell_type": "code",
   "execution_count": 11,
   "metadata": {},
   "outputs": [],
   "source": [
    "def save_data_as_jsonl(data_subset, jsonl_file_path):\n",
    "    with open(jsonl_file_path, 'w', encoding='utf-8') as file:\n",
    "        for item in data_subset:\n",
    "            json.dump(item, file)\n",
    "            file.write('\\n')  # Write a newline character after each JSON object\n"
   ]
  },
  {
   "cell_type": "code",
   "execution_count": null,
   "metadata": {},
   "outputs": [],
   "source": [
    " \n",
    "dev_data, test_data = train_test_split(converted_dev, test_size=0.5, random_state=42)\n",
    "\n",
    "# Save each subset to its corresponding jsonl file\n",
    "save_data_as_jsonl(converted_train, train_fever_output)\n",
    "save_data_as_jsonl(dev_data, dev_fever_output)\n",
    "save_data_as_jsonl(test_data, test_fever_output)\n"
   ]
  },
  {
   "cell_type": "code",
   "execution_count": 16,
   "metadata": {},
   "outputs": [],
   "source": [
    "def convert_orginal_format(data_list):\n",
    "    fever_format_data = []\n",
    "\n",
    "    for data in data_list:\n",
    "        claim_id = data.get(\"id\")\n",
    "        label = data.get(\"LABEL\")\n",
    "        claim = data.get('CLAIM')\n",
    "\n",
    "        fever_item = {\n",
    "            \"id\": claim_id,\n",
    "            \"label\": label,\n",
    "            \"claim\": claim\n",
    "        }\n",
    "\n",
    "        fever_format_data.append(fever_item)\n",
    "\n",
    "    return fever_format_data\n",
    "ctrain_data = convert_orginal_format(train_data)\n",
    "cdev_data = convert_orginal_format(dev_data)\n",
    "\n",
    "dev_set, test_set = train_test_split(cdev_data, test_size=0.5, random_state=42)\n",
    "\n",
    "# Save each subset to its corresponding jsonl file\n",
    "save_data_as_jsonl(ctrain_data, train_fever_org)\n",
    "save_data_as_jsonl(dev_set, dev_fever_org)\n",
    "save_data_as_jsonl(test_set, test_fever_org)\n",
    "    "
   ]
  }
 ],
 "metadata": {
  "kernelspec": {
   "display_name": "Python 3.8.18 ('dragon2': conda)",
   "language": "python",
   "name": "python3"
  },
  "language_info": {
   "codemirror_mode": {
    "name": "ipython",
    "version": 3
   },
   "file_extension": ".py",
   "mimetype": "text/x-python",
   "name": "python",
   "nbconvert_exporter": "python",
   "pygments_lexer": "ipython3",
   "version": "3.8.18"
  },
  "orig_nbformat": 4,
  "vscode": {
   "interpreter": {
    "hash": "08587c0f5c67a3495a6970ba7d5b464d0115ad99415726a58f65952f34bfe0bf"
   }
  }
 },
 "nbformat": 4,
 "nbformat_minor": 2
}
