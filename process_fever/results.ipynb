{
 "cells": [
  {
   "cell_type": "code",
   "execution_count": 1,
   "metadata": {},
   "outputs": [],
   "source": [
    "import pandas as pd\n",
    "import json\n",
    "\n"
   ]
  },
  {
   "cell_type": "code",
   "execution_count": 23,
   "metadata": {},
   "outputs": [
    {
     "data": {
      "text/plain": [
       "(       0  1\n",
       " 0  12969  B\n",
       " 1   2088  A\n",
       " 2  12899  A\n",
       " 3  18540  B\n",
       " 4  31292  A,\n",
       "       id                                           question answerKey\n",
       " 0  12969  {'stem': 'Lianyun District in the Jiangsu Prov...         B\n",
       " 1   2088  {'stem': 'Sudhin Das (Bangladeshi musician) wa...         B\n",
       " 2  12899  {'stem': 'Pikahsso has released twelve singles...         B\n",
       " 3  18540  {'stem': 'Georges Cadoudal, remaining true to ...         A\n",
       " 4  31292  {'stem': 'Cân i Gymru 2010 had eight contestan...         B)"
      ]
     },
     "execution_count": 23,
     "metadata": {},
     "output_type": "execute_result"
    }
   ],
   "source": [
    "# Load the predictions from the CSV file\n",
    "preds_df = pd.read_csv('/home/ashrafs/projects/dragon/runs/fever/dragon__fever_ih_false_load__elr1e-5_dlr1e-3_W100_b128_ufz2_e22_sd5__20240226_112825/test_e9_preds.csv', header=None)\n",
    "\n",
    "# Load the test data from the JSONL file and convert it to a DataFrame\n",
    "test_data = []\n",
    "with open('/home/ashrafs/projects/dragon/data/fever/Main/test.jsonl', 'r') as file:\n",
    "    for line in file:\n",
    "        test_data.append(json.loads(line))\n",
    "test_df = pd.DataFrame(test_data)\n",
    "\n",
    "# Display the first few rows of both DataFrames to understand their structure\n",
    "preds_df.head(), test_df.head()\n"
   ]
  },
  {
   "cell_type": "code",
   "execution_count": 24,
   "metadata": {},
   "outputs": [
    {
     "data": {
      "text/plain": [
       "answerKey\n",
       "A    1944\n",
       "B    1753\n",
       "C     248\n",
       "Name: count, dtype: int64"
      ]
     },
     "execution_count": 24,
     "metadata": {},
     "output_type": "execute_result"
    }
   ],
   "source": [
    "test_df['answerKey'].value_counts()"
   ]
  },
  {
   "cell_type": "code",
   "execution_count": 25,
   "metadata": {},
   "outputs": [
    {
     "data": {
      "text/html": [
       "<div>\n",
       "<style scoped>\n",
       "    .dataframe tbody tr th:only-of-type {\n",
       "        vertical-align: middle;\n",
       "    }\n",
       "\n",
       "    .dataframe tbody tr th {\n",
       "        vertical-align: top;\n",
       "    }\n",
       "\n",
       "    .dataframe thead th {\n",
       "        text-align: right;\n",
       "    }\n",
       "</style>\n",
       "<table border=\"1\" class=\"dataframe\">\n",
       "  <thead>\n",
       "    <tr style=\"text-align: right;\">\n",
       "      <th></th>\n",
       "      <th>id</th>\n",
       "      <th>question</th>\n",
       "      <th>answerKey</th>\n",
       "      <th>predictedLabel</th>\n",
       "    </tr>\n",
       "  </thead>\n",
       "  <tbody>\n",
       "    <tr>\n",
       "      <th>0</th>\n",
       "      <td>12969</td>\n",
       "      <td>{'stem': 'Lianyun District in the Jiangsu Prov...</td>\n",
       "      <td>B</td>\n",
       "      <td>B</td>\n",
       "    </tr>\n",
       "    <tr>\n",
       "      <th>1</th>\n",
       "      <td>2088</td>\n",
       "      <td>{'stem': 'Sudhin Das (Bangladeshi musician) wa...</td>\n",
       "      <td>B</td>\n",
       "      <td>A</td>\n",
       "    </tr>\n",
       "    <tr>\n",
       "      <th>2</th>\n",
       "      <td>12899</td>\n",
       "      <td>{'stem': 'Pikahsso has released twelve singles...</td>\n",
       "      <td>B</td>\n",
       "      <td>A</td>\n",
       "    </tr>\n",
       "    <tr>\n",
       "      <th>3</th>\n",
       "      <td>18540</td>\n",
       "      <td>{'stem': 'Georges Cadoudal, remaining true to ...</td>\n",
       "      <td>A</td>\n",
       "      <td>B</td>\n",
       "    </tr>\n",
       "    <tr>\n",
       "      <th>4</th>\n",
       "      <td>31292</td>\n",
       "      <td>{'stem': 'Cân i Gymru 2010 had eight contestan...</td>\n",
       "      <td>B</td>\n",
       "      <td>A</td>\n",
       "    </tr>\n",
       "  </tbody>\n",
       "</table>\n",
       "</div>"
      ],
      "text/plain": [
       "      id                                           question answerKey  \\\n",
       "0  12969  {'stem': 'Lianyun District in the Jiangsu Prov...         B   \n",
       "1   2088  {'stem': 'Sudhin Das (Bangladeshi musician) wa...         B   \n",
       "2  12899  {'stem': 'Pikahsso has released twelve singles...         B   \n",
       "3  18540  {'stem': 'Georges Cadoudal, remaining true to ...         A   \n",
       "4  31292  {'stem': 'Cân i Gymru 2010 had eight contestan...         B   \n",
       "\n",
       "  predictedLabel  \n",
       "0              B  \n",
       "1              A  \n",
       "2              A  \n",
       "3              B  \n",
       "4              A  "
      ]
     },
     "execution_count": 25,
     "metadata": {},
     "output_type": "execute_result"
    }
   ],
   "source": [
    "# Rename columns in preds_df for clarity\n",
    "preds_df.columns = ['id', 'predictedLabel']\n",
    "\n",
    "# Ensure 'id' columns are of the same type to avoid merge issues\n",
    "preds_df['id'] = preds_df['id'].astype(int)\n",
    "test_df['id'] = test_df['id'].astype(int)\n",
    "\n",
    "# Merge the predictions with the actual labels on 'id'\n",
    "merged_df = pd.merge(test_df, preds_df, on='id')\n",
    "\n",
    "# Display the first few rows of the merged DataFrame to confirm the merge\n",
    "merged_df.head()\n"
   ]
  },
  {
   "cell_type": "code",
   "execution_count": 19,
   "metadata": {},
   "outputs": [
    {
     "data": {
      "text/html": [
       "<div>\n",
       "<style scoped>\n",
       "    .dataframe tbody tr th:only-of-type {\n",
       "        vertical-align: middle;\n",
       "    }\n",
       "\n",
       "    .dataframe tbody tr th {\n",
       "        vertical-align: top;\n",
       "    }\n",
       "\n",
       "    .dataframe thead th {\n",
       "        text-align: right;\n",
       "    }\n",
       "</style>\n",
       "<table border=\"1\" class=\"dataframe\">\n",
       "  <thead>\n",
       "    <tr style=\"text-align: right;\">\n",
       "      <th></th>\n",
       "      <th>12969</th>\n",
       "    </tr>\n",
       "  </thead>\n",
       "  <tbody>\n",
       "    <tr>\n",
       "      <th>count</th>\n",
       "      <td>3944.000000</td>\n",
       "    </tr>\n",
       "    <tr>\n",
       "      <th>mean</th>\n",
       "      <td>14588.012677</td>\n",
       "    </tr>\n",
       "    <tr>\n",
       "      <th>std</th>\n",
       "      <td>13269.338697</td>\n",
       "    </tr>\n",
       "    <tr>\n",
       "      <th>min</th>\n",
       "      <td>5.000000</td>\n",
       "    </tr>\n",
       "    <tr>\n",
       "      <th>25%</th>\n",
       "      <td>3886.500000</td>\n",
       "    </tr>\n",
       "    <tr>\n",
       "      <th>50%</th>\n",
       "      <td>9816.000000</td>\n",
       "    </tr>\n",
       "    <tr>\n",
       "      <th>75%</th>\n",
       "      <td>22405.250000</td>\n",
       "    </tr>\n",
       "    <tr>\n",
       "      <th>max</th>\n",
       "      <td>52448.000000</td>\n",
       "    </tr>\n",
       "  </tbody>\n",
       "</table>\n",
       "</div>"
      ],
      "text/plain": [
       "              12969\n",
       "count   3944.000000\n",
       "mean   14588.012677\n",
       "std    13269.338697\n",
       "min        5.000000\n",
       "25%     3886.500000\n",
       "50%     9816.000000\n",
       "75%    22405.250000\n",
       "max    52448.000000"
      ]
     },
     "execution_count": 19,
     "metadata": {},
     "output_type": "execute_result"
    }
   ],
   "source": []
  },
  {
   "cell_type": "code",
   "execution_count": 26,
   "metadata": {},
   "outputs": [
    {
     "data": {
      "text/plain": [
       "(3945, 3945)"
      ]
     },
     "execution_count": 26,
     "metadata": {},
     "output_type": "execute_result"
    }
   ],
   "source": [
    "len(preds_df), len(test_df)"
   ]
  },
  {
   "cell_type": "code",
   "execution_count": null,
   "metadata": {},
   "outputs": [],
   "source": []
  },
  {
   "cell_type": "code",
   "execution_count": 27,
   "metadata": {},
   "outputs": [
    {
     "name": "stdout",
     "output_type": "stream",
     "text": [
      "                 precision    recall  f1-score   support\n",
      "\n",
      "       SUPPORTS       0.59      0.82      0.69      1944\n",
      "        REFUTES       0.65      0.47      0.55      1753\n",
      "NOT ENOUGH INFO       0.00      0.00      0.00       248\n",
      "\n",
      "       accuracy                           0.61      3945\n",
      "      macro avg       0.41      0.43      0.41      3945\n",
      "   weighted avg       0.58      0.61      0.58      3945\n",
      "\n"
     ]
    },
    {
     "name": "stderr",
     "output_type": "stream",
     "text": [
      "/home/ashrafs/miniconda3/envs/dragon2/lib/python3.8/site-packages/sklearn/metrics/_classification.py:1471: UndefinedMetricWarning: Precision and F-score are ill-defined and being set to 0.0 in labels with no predicted samples. Use `zero_division` parameter to control this behavior.\n",
      "  _warn_prf(average, modifier, msg_start, len(result))\n",
      "/home/ashrafs/miniconda3/envs/dragon2/lib/python3.8/site-packages/sklearn/metrics/_classification.py:1471: UndefinedMetricWarning: Precision and F-score are ill-defined and being set to 0.0 in labels with no predicted samples. Use `zero_division` parameter to control this behavior.\n",
      "  _warn_prf(average, modifier, msg_start, len(result))\n",
      "/home/ashrafs/miniconda3/envs/dragon2/lib/python3.8/site-packages/sklearn/metrics/_classification.py:1471: UndefinedMetricWarning: Precision and F-score are ill-defined and being set to 0.0 in labels with no predicted samples. Use `zero_division` parameter to control this behavior.\n",
      "  _warn_prf(average, modifier, msg_start, len(result))\n"
     ]
    }
   ],
   "source": [
    "from sklearn.metrics import classification_report\n",
    "\n",
    "# Extract actual and predicted labels\n",
    "y_true = merged_df['answerKey']\n",
    "y_pred = merged_df['predictedLabel']\n",
    "\n",
    "# Compute the classification report\n",
    "class_report = classification_report(y_true, y_pred, target_names=[\"SUPPORTS\", \"REFUTES\", \"NOT ENOUGH INFO\"])\n",
    "\n",
    "print(class_report)\n"
   ]
  },
  {
   "cell_type": "code",
   "execution_count": 28,
   "metadata": {},
   "outputs": [
    {
     "data": {
      "text/plain": [
       "0.5815216455582145"
      ]
     },
     "execution_count": 28,
     "metadata": {},
     "output_type": "execute_result"
    }
   ],
   "source": [
    "from sklearn.metrics import f1_score\n",
    "\n",
    "# Calculate the average F1 score\n",
    "average_f1 = f1_score(y_true, y_pred, average='weighted')\n",
    "\n",
    "average_f1\n"
   ]
  }
 ],
 "metadata": {
  "kernelspec": {
   "display_name": "Python 3.8.18 ('dragon2')",
   "language": "python",
   "name": "python3"
  },
  "language_info": {
   "codemirror_mode": {
    "name": "ipython",
    "version": 3
   },
   "file_extension": ".py",
   "mimetype": "text/x-python",
   "name": "python",
   "nbconvert_exporter": "python",
   "pygments_lexer": "ipython3",
   "version": "3.8.18"
  },
  "orig_nbformat": 4,
  "vscode": {
   "interpreter": {
    "hash": "08587c0f5c67a3495a6970ba7d5b464d0115ad99415726a58f65952f34bfe0bf"
   }
  }
 },
 "nbformat": 4,
 "nbformat_minor": 2
}
