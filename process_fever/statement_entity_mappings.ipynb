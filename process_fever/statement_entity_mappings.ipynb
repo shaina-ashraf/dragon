{
 "cells": [
  {
   "cell_type": "code",
   "execution_count": 2,
   "metadata": {},
   "outputs": [],
   "source": [
    "import json\n",
    "import networkx as nx\n",
    "import matplotlib.pyplot as plt\n",
    "import pickle\n",
    "import pandas as pd\n"
   ]
  },
  {
   "cell_type": "code",
   "execution_count": 3,
   "metadata": {},
   "outputs": [],
   "source": [
    "# Example file paths (replace with actual paths)\n",
    "wikidata_entity_label_file = '/home/ashrafs/projects/dataset/FEVER-Processed/WIKIDATA_ENTITY_LABEL_MAPPING_v4.json'\n",
    "feverous_dev_file = '/home/ashrafs/projects/dragon/data/fever/feverous_dev_labelled_statements.jsonl'\n",
    "output_enriched_file = '/home/ashrafs/projects/dragon/data/fever/enriched_feverous_dev.jsonl'\n"
   ]
  },
  {
   "cell_type": "code",
   "execution_count": 9,
   "metadata": {},
   "outputs": [
    {
     "name": "stdout",
     "output_type": "stream",
     "text": [
      "Entity label mapping completed and saved to /home/ashrafs/projects/dragon/data/fever/enriched_feverous_dev.jsonl\n"
     ]
    }
   ],
   "source": [
    "import json\n",
    "\n",
    "def map_entity_labels(entity_label_file, feverous_file, output_file):\n",
    "    # Step 1: Read the entity-label mapping file\n",
    "    entity_to_label_map = {}\n",
    "    with open(entity_label_file, 'r') as file:\n",
    "        entity_labels = json.load(file)\n",
    "        for entry in entity_labels:\n",
    "            if 'label' in entry:\n",
    "                entity_to_label_map[entry['entity']] = entry['label']\n",
    "\n",
    "    # Step 2: Read the feverous file and replace entity IDs with labels\n",
    "    enriched_data = []\n",
    "    with open(feverous_file, 'r') as file:\n",
    "        for line in file:\n",
    "            data = json.loads(line)\n",
    "            entity_statements = data.get(\"ENTITY_STATEMENTS\", {})\n",
    "\n",
    "            if entity_statements:  # Check if entity_statements is not None and is a dictionary\n",
    "                new_entity_statements = {}\n",
    "                for entity, details in entity_statements.items():\n",
    "                    entity_label = entity_to_label_map.get(entity, entity)  # Default to entity if no label found\n",
    "                    new_details = details.copy()\n",
    "                    \n",
    "                    # Replace entity IDs in statements with labels\n",
    "                    new_statements = []\n",
    "                    for statement in details.get(\"statements\", []):\n",
    "                        new_statement = [entity_to_label_map.get(e, e) for e in statement]\n",
    "                        new_statements.append(new_statement)\n",
    "                    new_details[\"statements\"] = new_statements\n",
    "\n",
    "                    new_entity_statements[entity_label] = new_details\n",
    "\n",
    "                data[\"ENTITY_STATEMENTS\"] = new_entity_statements\n",
    "            enriched_data.append(data)\n",
    "\n",
    "    # Step 3: Write the enriched data to a new file\n",
    "    with open(output_file, 'w') as file:\n",
    "        for entry in enriched_data:\n",
    "            json.dump(entry, file)\n",
    "            file.write('\\n')\n",
    "\n",
    "    print(\"Entity label mapping completed and saved to\", output_file)\n",
    "\n",
    "\n",
    "\n",
    "# This function call is for demonstration. You will need to provide the actual file paths.\n",
    "map_entity_labels(wikidata_entity_label_file, feverous_dev_file, output_enriched_file)\n"
   ]
  }
 ],
 "metadata": {
  "kernelspec": {
   "display_name": "Python 3.8.18 ('dragon2')",
   "language": "python",
   "name": "python3"
  },
  "language_info": {
   "codemirror_mode": {
    "name": "ipython",
    "version": 3
   },
   "file_extension": ".py",
   "mimetype": "text/x-python",
   "name": "python",
   "nbconvert_exporter": "python",
   "pygments_lexer": "ipython3",
   "version": "3.8.18"
  },
  "orig_nbformat": 4,
  "vscode": {
   "interpreter": {
    "hash": "08587c0f5c67a3495a6970ba7d5b464d0115ad99415726a58f65952f34bfe0bf"
   }
  }
 },
 "nbformat": 4,
 "nbformat_minor": 2
}
