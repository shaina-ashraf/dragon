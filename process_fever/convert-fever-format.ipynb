{
 "cells": [
  {
   "cell_type": "code",
   "execution_count": 4,
   "metadata": {},
   "outputs": [],
   "source": [
    "import json\n",
    "import networkx as nx\n",
    "import matplotlib.pyplot as plt\n",
    "import pickle\n",
    "import pandas as pd\n",
    "from sklearn.model_selection import train_test_split\n"
   ]
  },
  {
   "cell_type": "code",
   "execution_count": 5,
   "metadata": {},
   "outputs": [],
   "source": []
  },
  {
   "cell_type": "code",
   "execution_count": 2,
   "metadata": {},
   "outputs": [],
   "source": [
    "full_dev_data  = '/home/ashrafs/projects/dragon/data/fever1/old-format/enriched_feverous_dev.jsonl'"
   ]
  },
  {
   "cell_type": "code",
   "execution_count": 32,
   "metadata": {},
   "outputs": [],
   "source": [
    "dev_fever_data = '/home/ashrafs/projects/dragon/data/fever/Main/dev-split.jsonl'\n",
    "train_fever_data = '/home/ashrafs/projects/dragon/data/fever/Main/train-split.jsonl'\n",
    "test_fever_data = '/home/ashrafs/projects/dragon/data/fever/Main/test-split.jsonl'\n"
   ]
  },
  {
   "cell_type": "code",
   "execution_count": 6,
   "metadata": {},
   "outputs": [],
   "source": [
    "dev_fever_output = '/home/ashrafs/projects/dragon/data/fever/Main/dev.jsonl'\n",
    "train_fever_output = '/home/ashrafs/projects/dragon/data/fever/Main/train.jsonl'\n",
    "test_fever_output = '/home/ashrafs/projects/dragon/data/fever/Main/test.jsonl'\n",
    "\n"
   ]
  },
  {
   "cell_type": "code",
   "execution_count": 5,
   "metadata": {},
   "outputs": [],
   "source": [
    "def load_data(filename):\n",
    "    data = []\n",
    "    with open(filename, 'r') as file:\n",
    "        for line in file:\n",
    "            data.append(json.loads(line))\n",
    "    return data\n",
    "\n"
   ]
  },
  {
   "cell_type": "code",
   "execution_count": 35,
   "metadata": {},
   "outputs": [
    {
     "data": {
      "text/plain": [
       "10"
      ]
     },
     "execution_count": 35,
     "metadata": {},
     "output_type": "execute_result"
    }
   ],
   "source": [
    "# Load the data\n",
    "\n",
    "dev_data = load_data(dev_fever_data)\n",
    "train_data = load_data(train_fever_data)\n",
    "test_data = load_data(test_fever_data)\n",
    "\n",
    "# Now, data_list contains all the data from the JSONL file\n",
    "# Count the claims\n",
    "number_of_claims = len(dev_data)\n",
    "number_of_claims\n"
   ]
  },
  {
   "cell_type": "code",
   "execution_count": 8,
   "metadata": {},
   "outputs": [
    {
     "ename": "NameError",
     "evalue": "name 'dev_data' is not defined",
     "output_type": "error",
     "traceback": [
      "\u001b[0;31m---------------------------------------------------------------------------\u001b[0m",
      "\u001b[0;31mNameError\u001b[0m                                 Traceback (most recent call last)",
      "Cell \u001b[0;32mIn[8], line 1\u001b[0m\n\u001b[0;32m----> 1\u001b[0m \u001b[39mfor\u001b[39;00m i, data \u001b[39min\u001b[39;00m \u001b[39menumerate\u001b[39m(dev_data):\n\u001b[1;32m      2\u001b[0m     \u001b[39mif\u001b[39;00m i \u001b[39m>\u001b[39m \u001b[39m5\u001b[39m:\n\u001b[1;32m      3\u001b[0m         \u001b[39mbreak\u001b[39;00m\n",
      "\u001b[0;31mNameError\u001b[0m: name 'dev_data' is not defined"
     ]
    }
   ],
   "source": [
    "for data in dev_data:\n",
    "    print(data.get(\"CLAIM\"))\n",
    "    print(\"LABEL: \", data.get(\"LABEL\"), \" ID: \", data.get(\"id\"))\n",
    "    print(\"----------\")\n",
    "    "
   ]
  },
  {
   "cell_type": "code",
   "execution_count": 7,
   "metadata": {},
   "outputs": [],
   "source": [
    "def convert_to_fever_format(data_list):\n",
    "    fever_format_data = []\n",
    "    label_to_key = {\"SUPPORTS\": \"A\", \"REFUTES\": \"B\", \"NOT ENOUGH INFO\": \"C\"}\n",
    "    placeholder_text = \"which:\"\n",
    "\n",
    "    for data in data_list:\n",
    "        claim_id = data.get(\"id\")\n",
    "        label = data.get(\"LABEL\")\n",
    "\n",
    "        fever_item = {\n",
    "            \"id\": claim_id,\n",
    "            \"question\": {\n",
    "                \"stem\": f\"{data.get('CLAIM')}, {placeholder_text}\",\n",
    "                \"choices\": [\n",
    "                    {\"text\": \"SUPPORTS\", \"label\": \"A\"},\n",
    "                    {\"text\": \"REFUTES\", \"label\": \"B\"},\n",
    "                    {\"text\": \"NOT ENOUGH INFO\", \"label\": \"C\"},\n",
    "                ]\n",
    "            },\n",
    "            \"answerKey\": label_to_key.get(label)  # Default to \"C\" if label is not found\n",
    "        }\n",
    "\n",
    "        fever_format_data.append(fever_item)\n",
    "\n",
    "    return fever_format_data\n",
    "\n"
   ]
  },
  {
   "cell_type": "code",
   "execution_count": 39,
   "metadata": {},
   "outputs": [
    {
     "name": "stdout",
     "output_type": "stream",
     "text": [
      "{'id': 21641, 'question': {'stem': 'Abraham Annan Adjei has never played professional football., which:', 'choices': [{'text': 'SUPPORTS', 'label': 'A'}, {'text': 'REFUTES', 'label': 'B'}, {'text': 'NOT ENOUGH INFO', 'label': 'C'}]}, 'answerKey': 'B'}\n"
     ]
    }
   ],
   "source": [
    "# Assuming `data_list` is your list of data\n",
    "converted_dev= convert_to_fever_format(dev_data)\n",
    "converted_train= convert_to_fever_format(train_data)\n",
    "converted_test= convert_to_fever_format(test_data)\n",
    "\n",
    "# Example of printing the first item in the converted format\n",
    "print(converted_dev[0])\n"
   ]
  },
  {
   "cell_type": "code",
   "execution_count": 13,
   "metadata": {},
   "outputs": [],
   "source": [
    "def save_data_as_jsonl(data_subset, jsonl_file_path):\n",
    "    with open(jsonl_file_path, 'w', encoding='utf-8') as file:\n",
    "        for item in data_subset:\n",
    "            json.dump(item, file)\n",
    "            file.write('\\n')  # Write a newline character after each JSON object\n",
    "\n",
    "\n"
   ]
  },
  {
   "cell_type": "code",
   "execution_count": 30,
   "metadata": {},
   "outputs": [],
   "source": [
    "# Save the data subsets\n",
    "save_data_as_jsonl(converted_dev, dev_fever_output)\n",
    "save_data_as_jsonl(converted_train, train_fever_output)\n",
    "save_data_as_jsonl(converted_test, test_fever_output)"
   ]
  },
  {
   "cell_type": "code",
   "execution_count": 10,
   "metadata": {},
   "outputs": [
    {
     "name": "stdout",
     "output_type": "stream",
     "text": [
      "No of Claims:  7890\n",
      "{'id': 7389, 'question': {'stem': 'Algebraic logic has five Logical system and Lindenbaum–Tarski algebra which includes Physics algebra and Nodal algebra (provide models of propositional modal logics)., which:', 'choices': [{'text': 'SUPPORTS', 'label': 'A'}, {'text': 'REFUTES', 'label': 'B'}, {'text': 'NOT ENOUGH INFO', 'label': 'C'}]}, 'answerKey': 'B'}\n"
     ]
    }
   ],
   "source": [
    "#converting full dev set into format of MCQ:\n",
    "# Load the data\n",
    "\n",
    "dev_data = load_data(full_dev_data)\n",
    "\n",
    "# Now, data_list contains all the data from the JSONL file\n",
    "# Count the claims\n",
    "number_of_claims = len(dev_data)\n",
    "print(\"No of Claims: \", number_of_claims)\n",
    "converted_dev= convert_to_fever_format(dev_data)\n",
    "print(converted_dev[0])\n"
   ]
  },
  {
   "cell_type": "code",
   "execution_count": 14,
   "metadata": {},
   "outputs": [
    {
     "data": {
      "text/plain": [
       "7890"
      ]
     },
     "execution_count": 14,
     "metadata": {},
     "output_type": "execute_result"
    }
   ],
   "source": [
    "len(converted_dev)"
   ]
  },
  {
   "cell_type": "code",
   "execution_count": 18,
   "metadata": {},
   "outputs": [
    {
     "name": "stdout",
     "output_type": "stream",
     "text": [
      "Data split into train: 6312 (approx. 80.00%), dev: 789 (approx. 10.00%), test: 789 (approx. 10.00%)\n"
     ]
    }
   ],
   "source": [
    "def split_and_save_data(data_list):\n",
    "    \n",
    "    train_data, temp_data = train_test_split(data_list, test_size=0.2, random_state=42)\n",
    "    dev_data, test_data = train_test_split(temp_data, test_size=0.5, random_state=42)\n",
    "\n",
    "    # Save each subset to its corresponding jsonl file\n",
    "    save_data_as_jsonl(train_data, train_fever_output)\n",
    "    save_data_as_jsonl(dev_data, dev_fever_output)\n",
    "    save_data_as_jsonl(test_data, test_fever_output)\n",
    "\n",
    "    return len(train_data), len(dev_data), len(test_data)\n",
    "\n",
    "\n",
    "total_data_count = len(converted_dev)  \n",
    "train_count, dev_count, test_count = split_and_save_data(converted_dev)\n",
    "\n",
    "print(f\"Data split into train: {train_count} (approx. {train_count/total_data_count*100:.2f}%), \"\n",
    "      f\"dev: {dev_count} (approx. {dev_count/total_data_count*100:.2f}%), \"\n",
    "      f\"test: {test_count} (approx. {test_count/total_data_count*100:.2f}%)\")"
   ]
  }
 ],
 "metadata": {
  "kernelspec": {
   "display_name": "Python 3.8.18 ('dragon2')",
   "language": "python",
   "name": "python3"
  },
  "language_info": {
   "codemirror_mode": {
    "name": "ipython",
    "version": 3
   },
   "file_extension": ".py",
   "mimetype": "text/x-python",
   "name": "python",
   "nbconvert_exporter": "python",
   "pygments_lexer": "ipython3",
   "version": "3.8.18"
  },
  "orig_nbformat": 4,
  "vscode": {
   "interpreter": {
    "hash": "08587c0f5c67a3495a6970ba7d5b464d0115ad99415726a58f65952f34bfe0bf"
   }
  }
 },
 "nbformat": 4,
 "nbformat_minor": 2
}
