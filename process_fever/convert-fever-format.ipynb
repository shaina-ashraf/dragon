{
 "cells": [
  {
   "cell_type": "code",
   "execution_count": 31,
   "metadata": {},
   "outputs": [],
   "source": [
    "import json\n",
    "import networkx as nx\n",
    "import matplotlib.pyplot as plt\n",
    "import pickle\n",
    "import pandas as pd"
   ]
  },
  {
   "cell_type": "code",
   "execution_count": 32,
   "metadata": {},
   "outputs": [],
   "source": [
    "dev_fever_data = '/home/ashrafs/projects/dragon/data/fever/Main/dev-split.jsonl'\n",
    "train_fever_data = '/home/ashrafs/projects/dragon/data/fever/Main/train-split.jsonl'\n",
    "test_fever_data = '/home/ashrafs/projects/dragon/data/fever/Main/test-split.jsonl'\n"
   ]
  },
  {
   "cell_type": "code",
   "execution_count": 33,
   "metadata": {},
   "outputs": [],
   "source": [
    "dev_fever_output = '/home/ashrafs/projects/dragon/data/fever/Main/dev.jsonl'\n",
    "train_fever_output = '/home/ashrafs/projects/dragon/data/fever/Main/train.jsonl'\n",
    "test_fever_output = '/home/ashrafs/projects/dragon/data/fever/Main/test.jsonl'\n",
    "\n"
   ]
  },
  {
   "cell_type": "code",
   "execution_count": 34,
   "metadata": {},
   "outputs": [],
   "source": [
    "def load_data(filename):\n",
    "    data = []\n",
    "    with open(filename, 'r') as file:\n",
    "        for line in file:\n",
    "            data.append(json.loads(line))\n",
    "    return data\n",
    "\n"
   ]
  },
  {
   "cell_type": "code",
   "execution_count": 35,
   "metadata": {},
   "outputs": [
    {
     "data": {
      "text/plain": [
       "10"
      ]
     },
     "execution_count": 35,
     "metadata": {},
     "output_type": "execute_result"
    }
   ],
   "source": [
    "# Load the data\n",
    "\n",
    "dev_data = load_data(dev_fever_data)\n",
    "train_data = load_data(train_fever_data)\n",
    "test_data = load_data(test_fever_data)\n",
    "\n",
    "# Now, data_list contains all the data from the JSONL file\n",
    "# Count the claims\n",
    "number_of_claims = len(dev_data)\n",
    "number_of_claims\n"
   ]
  },
  {
   "cell_type": "code",
   "execution_count": 36,
   "metadata": {},
   "outputs": [
    {
     "name": "stdout",
     "output_type": "stream",
     "text": [
      "Abraham Annan Adjei has never played professional football.\n",
      "LABEL:  REFUTES  ID:  21641\n",
      "----------\n",
      "Rex Jory remained a copy boy until his retirement.\n",
      "LABEL:  REFUTES  ID:  6293\n",
      "----------\n",
      "Italian film actor Peppe Lanzetta has appeared in films since his first, Blues metropolitano, in 1985 to his most recent, Due soldati, in 2017.\n",
      "LABEL:  SUPPORTS  ID:  9220\n",
      "----------\n",
      "Two ships were named after U.S. Navy enlistee, Charles Ausburne, after he stood to duty when the Antilles,a ship that was chartered by the Army for troop transport, was torpedoed amd sunk by a German U-Boat, under him.\n",
      "LABEL:  SUPPORTS  ID:  2021\n",
      "----------\n",
      "UA Valettoise was founded in 1948, is in the CFA 2 Group E league, and is based in the Provence-Alpes-Côte d'Azur region in southeastern France.\n",
      "LABEL:  SUPPORTS  ID:  2117\n",
      "----------\n",
      "Juventus, colloquially known as Juve (pronounced [ˈjuːve), is a professional football club based in Turin, Piedmont, Italy, that competes in the Serie A, the top flight of Italian football, won the most numbers of gold in the Coppa Italia finals.\n",
      "LABEL:  NOT ENOUGH INFO  ID:  7831\n",
      "----------\n",
      "The kingdom of Plantae are multicellular eukaryotic organisms that form the biological kingdom for which Apistogramma regani is a member of one of its over 1.5 million species.\n",
      "LABEL:  REFUTES  ID:  3675\n",
      "----------\n",
      "Jason Naismith played for ten clubs but never signed with Peterborough United, also known as \"The Posh\".\n",
      "LABEL:  REFUTES  ID:  43418\n",
      "----------\n",
      "The Petronas Philharmonic Hall, which was constructed with exposed movable ceiling panels, has seven movable panels in the upper ceiling which can be adjusted to alter the volume in the hall and simulate a wide range of acoustic environments.\n",
      "LABEL:  REFUTES  ID:  10588\n",
      "----------\n",
      "Cape Fear and Yadkin Valley Railway operated in North and South Carolina right after Reconstruction, created in 1879 from a consolidation with two other railroads.\n",
      "LABEL:  SUPPORTS  ID:  493\n",
      "----------\n"
     ]
    }
   ],
   "source": [
    "for data in dev_data:\n",
    "    print(data.get(\"CLAIM\"))\n",
    "    print(\"LABEL: \", data.get(\"LABEL\"), \" ID: \", data.get(\"id\"))\n",
    "    print(\"----------\")\n",
    "    "
   ]
  },
  {
   "cell_type": "code",
   "execution_count": 38,
   "metadata": {},
   "outputs": [],
   "source": [
    "def convert_to_fever_format(data_list):\n",
    "    fever_format_data = []\n",
    "    label_to_key = {\"SUPPORTS\": \"A\", \"REFUTES\": \"B\", \"NOT ENOUGH INFO\": \"C\"}\n",
    "    placeholder_text = \"which:\"\n",
    "\n",
    "    for data in data_list:\n",
    "        claim_id = data.get(\"id\")\n",
    "        label = data.get(\"LABEL\")\n",
    "\n",
    "        fever_item = {\n",
    "            \"id\": claim_id,\n",
    "            \"question\": {\n",
    "                \"stem\": f\"{data.get('CLAIM')}, {placeholder_text}\",\n",
    "                \"choices\": [\n",
    "                    {\"text\": \"SUPPORTS\", \"label\": \"A\"},\n",
    "                    {\"text\": \"REFUTES\", \"label\": \"B\"},\n",
    "                    {\"text\": \"NOT ENOUGH INFO\", \"label\": \"C\"},\n",
    "                ]\n",
    "            },\n",
    "            \"answerKey\": label_to_key.get(label)  # Default to \"C\" if label is not found\n",
    "        }\n",
    "\n",
    "        fever_format_data.append(fever_item)\n",
    "\n",
    "    return fever_format_data\n",
    "\n"
   ]
  },
  {
   "cell_type": "code",
   "execution_count": 39,
   "metadata": {},
   "outputs": [
    {
     "name": "stdout",
     "output_type": "stream",
     "text": [
      "{'id': 21641, 'question': {'stem': 'Abraham Annan Adjei has never played professional football., which:', 'choices': [{'text': 'SUPPORTS', 'label': 'A'}, {'text': 'REFUTES', 'label': 'B'}, {'text': 'NOT ENOUGH INFO', 'label': 'C'}]}, 'answerKey': 'B'}\n"
     ]
    }
   ],
   "source": [
    "# Assuming `data_list` is your list of data\n",
    "converted_dev= convert_to_fever_format(dev_data)\n",
    "converted_train= convert_to_fever_format(train_data)\n",
    "converted_test= convert_to_fever_format(test_data)\n",
    "\n",
    "# Example of printing the first item in the converted format\n",
    "print(converted_dev[0])\n"
   ]
  },
  {
   "cell_type": "code",
   "execution_count": 29,
   "metadata": {},
   "outputs": [],
   "source": [
    "def save_data_as_jsonl(data_subset, jsonl_file_path):\n",
    "    with open(jsonl_file_path, 'w') as file:\n",
    "        for item in data_subset:\n",
    "            json.dump(item, file)\n",
    "            file.write('\\n')  # Write a newline character after each JSON object\n",
    "\n",
    "\n"
   ]
  },
  {
   "cell_type": "code",
   "execution_count": 30,
   "metadata": {},
   "outputs": [],
   "source": [
    "# Save the data subsets\n",
    "save_data_as_jsonl(converted_dev, dev_fever_output)\n",
    "save_data_as_jsonl(converted_train, train_fever_output)\n",
    "save_data_as_jsonl(converted_test, test_fever_output)"
   ]
  }
 ],
 "metadata": {
  "kernelspec": {
   "display_name": "Python 3.8.18 ('dragon2')",
   "language": "python",
   "name": "python3"
  },
  "language_info": {
   "codemirror_mode": {
    "name": "ipython",
    "version": 3
   },
   "file_extension": ".py",
   "mimetype": "text/x-python",
   "name": "python",
   "nbconvert_exporter": "python",
   "pygments_lexer": "ipython3",
   "version": "3.8.18"
  },
  "orig_nbformat": 4,
  "vscode": {
   "interpreter": {
    "hash": "08587c0f5c67a3495a6970ba7d5b464d0115ad99415726a58f65952f34bfe0bf"
   }
  }
 },
 "nbformat": 4,
 "nbformat_minor": 2
}
